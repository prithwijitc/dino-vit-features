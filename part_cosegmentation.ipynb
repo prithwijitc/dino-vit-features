{
 "cells": [
  {
   "cell_type": "markdown",
   "metadata": {
    "id": "qSwF9MBX0Put"
   },
   "source": [
    "# Deep ViT Features - Part Co-segmentation\n",
    "Given a set of images, find $k$ common parts among the common objects in the images."
   ]
  },
  {
   "cell_type": "code",
   "execution_count": null,
   "metadata": {
    "cellView": "form",
    "collapsed": true,
    "id": "-XaIr6160OS7"
   },
   "outputs": [],
   "source": [
    "\n",
    "import sys\n",
    "sys.path.append('dino-vit-features')\n"
   ]
  },
  {
   "cell_type": "markdown",
   "metadata": {
    "id": "JBuQmaZK1X7h"
   },
   "source": [
    "## Change Runtime Type\n",
    "To get a GPU in Google Colab, go to the top menu: Runtime ➔ Change runtime type and select GPU as Hardware accelerator."
   ]
  },
  {
   "cell_type": "code",
   "execution_count": null,
   "metadata": {
    "cellView": "form",
    "id": "Yr_EWpNd0OS9",
    "pycharm": {
     "name": "#%%\n"
    }
   },
   "outputs": [],
   "source": [
    "#@title Configuration:\n",
    "#@markdown Choose image paths:\n",
    "images_paths = ['dino-vit-features/images/cat.jpg', 'dino-vit-features/images/ibex.jpg'] #@param\n",
    "#@markdown Choose loading size:\n",
    "load_size = 360 #@param\n",
    "#@markdown Choose layer of descriptor:\n",
    "layer = 11 #@param\n",
    "#@markdown Choose facet of descriptor:\n",
    "facet = 'key' #@param\n",
    "#@markdown Choose if to use a binned descriptor:\n",
    "bin=False #@param\n",
    "#@markdown Choose fg / bg threshold:\n",
    "thresh=0.065 #@param\n",
    "#@markdown Choose model type:\n",
    "model_type='dino_vits8' #@param\n",
    "#@markdown Choose stride:\n",
    "stride=4 #@param\n",
    "#@markdown Choose elbow coefficient for setting number of clusters\n",
    "elbow=0.975 #@param\n",
    "#@markdown Choose percentage of votes to make a cluster salient.\n",
    "votes_percentage=75 #@param\n",
    "#@markdown Choose interval for sampling descriptors for training\n",
    "sample_interval=100 #@param\n",
    "#@markdown Use low resolution saliency maps -- reduces RAM usage.\n",
    "low_res_saliency_maps=True #@param\n",
    "#@markdown number of final object parts.\n",
    "num_parts=4 #@param\n",
    "#@markdown number of crop augmentations to apply on each input image. relevant for small sets.\n",
    "num_crop_augmentations=20 #@param\n",
    "#@markdown If true, use three clustering stages instead of two. relevant for small sets.\n",
    "three_stages=True #@param\n",
    "#@markdown elbow method for finding amount of clusters when using three clustering stages.\n",
    "elbow_second_stage=0.94 #@param"
   ]
  },
  {
   "cell_type": "code",
   "execution_count": null,
   "metadata": {
    "id": "i5OrjEpY0OS-",
    "pycharm": {
     "name": "#%%\n"
    }
   },
   "outputs": [],
   "source": [
    "import matplotlib.pyplot as plt\n",
    "import torch\n",
    "from part_cosegmentation import find_part_cosegmentation, draw_part_cosegmentation\n",
    "\n",
    "with torch.no_grad():\n",
    "\n",
    "    # computing part cosegmentation\n",
    "    parts_imgs, pil_images = find_part_cosegmentation(images_paths, elbow, load_size, layer, facet, bin, thresh, model_type,\n",
    "                                                      stride, votes_percentage, sample_interval, low_res_saliency_maps,\n",
    "                                                      num_parts, num_crop_augmentations, three_stages, elbow_second_stage)\n",
    "\n",
    "    figs, axes = [], []\n",
    "    for pil_image in pil_images:\n",
    "      fig, ax = plt.subplots()\n",
    "      ax.axis('off')\n",
    "      ax.imshow(pil_image)\n",
    "      figs.append(fig)\n",
    "      axes.append(ax)\n",
    "\n",
    "    # saving part cosegmentations\n",
    "    part_figs = draw_part_cosegmentation(num_parts, parts_imgs, pil_images)\n",
    "\n",
    "plt.show()"
   ]
  }
 ],
 "metadata": {
  "accelerator": "GPU",
  "colab": {
   "name": "part_cosegmentation.ipynb",
   "provenance": []
  },
  "kernelspec": {
   "display_name": "Python 3",
   "language": "python",
   "name": "python3"
  },
  "language_info": {
   "codemirror_mode": {
    "name": "ipython",
    "version": 2
   },
   "file_extension": ".py",
   "mimetype": "text/x-python",
   "name": "python",
   "nbconvert_exporter": "python",
   "pygments_lexer": "ipython2",
   "version": "2.7.6"
  }
 },
 "nbformat": 4,
 "nbformat_minor": 0
}
